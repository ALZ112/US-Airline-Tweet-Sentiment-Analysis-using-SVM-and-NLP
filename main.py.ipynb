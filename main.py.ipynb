{
 "cells": [
  {
   "cell_type": "code",
   "execution_count": 70,
   "id": "9c7ef781",
   "metadata": {},
   "outputs": [],
   "source": [
    "import numpy as np\n",
    "import pandas as pd\n",
    "\n",
    "# train_data = pd.read_csv('twitter_train.csv')\n",
    "# test_data = pd.read_csv('twitter_test.csv')\n",
    "total_data = pd.read_csv('Total_Tweets.csv')\n",
    "\n",
    "# test_data = pd.read_csv('custom_test.csv')\n",
    "# print(test_data)"
   ]
  },
  {
   "cell_type": "code",
   "execution_count": 68,
   "id": "e712b199",
   "metadata": {},
   "outputs": [
    {
     "data": {
      "text/plain": [
       "(11712, 15)"
      ]
     },
     "execution_count": 68,
     "metadata": {},
     "output_type": "execute_result"
    }
   ],
   "source": [
    "train_data.shape"
   ]
  },
  {
   "cell_type": "code",
   "execution_count": 69,
   "id": "55142013",
   "metadata": {
    "scrolled": true
   },
   "outputs": [
    {
     "data": {
      "text/plain": [
       "(2928, 15)"
      ]
     },
     "execution_count": 69,
     "metadata": {},
     "output_type": "execute_result"
    }
   ],
   "source": [
    "test_data.shape"
   ]
  },
  {
   "cell_type": "code",
   "execution_count": 78,
   "id": "f504e476",
   "metadata": {},
   "outputs": [],
   "source": [
    "## train_docs\n",
    "import random\n",
    "# Test Train Split\n",
    "LEN = len(total_data)\n",
    "TRAIN_LEN = int((0.8)*LEN)\n",
    "train_data=total_data[:TRAIN_LEN]\n",
    "test_data=total_data[TRAIN_LEN:]\n",
    "\n",
    "train_docs = []\n",
    "for i in range(train_data.shape[0]):\n",
    "    train_docs.append((train_data['text'][i], train_data['airline_sentiment'][i]))\n",
    "random.shuffle(train_docs)\n",
    "\n",
    "#train_docs\n"
   ]
  },
  {
   "cell_type": "code",
   "execution_count": 70,
   "id": "586219da",
   "metadata": {},
   "outputs": [],
   "source": [
    "import numpy as np\n",
    "import pandas as pd\n",
    "\n",
    "# train_data = pd.read_csv('twitter_train.csv')\n",
    "# test_data = pd.read_csv('twitter_test.csv')\n",
    "total_data = pd.read_csv('Total_Tweets.csv')\n",
    "\n",
    "# test_data = pd.read_csv('custom_test.csv')\n",
    "# print(test_data)"
   ]
  },
  {
   "cell_type": "code",
   "execution_count": 16,
   "id": "f7e4e12a",
   "metadata": {},
   "outputs": [],
   "source": [
    "# test_data"
   ]
  },
  {
   "cell_type": "code",
   "execution_count": 77,
   "id": "01263aed",
   "metadata": {},
   "outputs": [],
   "source": [
    "#test_docs\n",
    "test_docs = []\n",
    "# for i in range(test_data.shape[0]):\n",
    "#     test_docs.append((test_data['text'][i], test_data['airline_sentiment_gold'][i]))\n",
    "for index, row in test_data.iterrows():\n",
    "    test_docs.append((row['text'], row['airline_sentiment_gold']))"
   ]
  },
  {
   "cell_type": "code",
   "execution_count": 79,
   "id": "a0a07c17",
   "metadata": {},
   "outputs": [],
   "source": [
    "new_train_docs = [(doc.split(' '), cat) for doc, cat in train_docs]\n",
    "new_test_docs = [(doc.split(' '), cat) for doc, cat in test_docs]"
   ]
  },
  {
   "cell_type": "code",
   "execution_count": 59,
   "id": "3b47894f",
   "metadata": {},
   "outputs": [],
   "source": [
    "#  new_train_docs[0]"
   ]
  },
  {
   "cell_type": "code",
   "execution_count": 80,
   "id": "8ac421d1",
   "metadata": {},
   "outputs": [],
   "source": [
    "## stop words:\n",
    "import nltk\n",
    "from nltk.corpus import stopwords\n",
    "# nltk.download('stopwords')\n",
    "import string\n",
    "stop = stopwords.words('english')\n",
    "punctuations = list(string.punctuation)\n",
    "a = ['']\n",
    "stop = stop + punctuations + a"
   ]
  },
  {
   "cell_type": "code",
   "execution_count": 61,
   "id": "1b106376",
   "metadata": {},
   "outputs": [],
   "source": [
    "#stop"
   ]
  },
  {
   "cell_type": "code",
   "execution_count": 81,
   "id": "45a94f1c",
   "metadata": {},
   "outputs": [],
   "source": [
    "###lemmatize each word and find new claen_docs for training :\n",
    "\n",
    "from nltk.stem import WordNetLemmatizer\n",
    "from nltk import pos_tag\n",
    "lemmatizer = WordNetLemmatizer()"
   ]
  },
  {
   "cell_type": "code",
   "execution_count": 82,
   "id": "15ecf903",
   "metadata": {},
   "outputs": [],
   "source": [
    "## defining a func for simple_pos_tag\n",
    "from nltk.corpus import wordnet\n",
    "def get_simple_pos(tag):\n",
    "    \n",
    "    if tag.startswith('J'):\n",
    "        return wordnet.ADJ\n",
    "    \n",
    "    elif tag.startswith('V'):\n",
    "        return wordnet.VERB\n",
    "    \n",
    "    elif tag.startswith('N'):\n",
    "        return wordnet.NOUN\n",
    "    \n",
    "    elif tag.startswith('R'):\n",
    "        return wordnet.ADV\n",
    "    \n",
    "    else:\n",
    "        return wordnet.NOUN"
   ]
  },
  {
   "cell_type": "code",
   "execution_count": 84,
   "id": "d5c6ec0c",
   "metadata": {},
   "outputs": [],
   "source": [
    "def clean_analysis(words):\n",
    "    output_words = []\n",
    "    for w in words:\n",
    "        if w.lower() not in stop:\n",
    "            pos = pos_tag([w])\n",
    "            clean_words = lemmatizer.lemmatize(w, pos = get_simple_pos(pos[0][1]))\n",
    "            output_words.append(clean_words.lower())\n",
    "    return output_words"
   ]
  },
  {
   "cell_type": "code",
   "execution_count": 85,
   "id": "b97393bd",
   "metadata": {},
   "outputs": [],
   "source": [
    "### get clean train and test docs\n",
    "# nltk.download('averaged_perceptron_tagger')\n",
    "# nltk.download('wordnet')\n",
    "clean_train_docs = [(clean_analysis(doc),cat) for doc, cat in new_train_docs]\n",
    "clean_test_docs = [(clean_analysis(doc),cat) for doc, cat in new_test_docs]\n"
   ]
  },
  {
   "cell_type": "code",
   "execution_count": 66,
   "id": "7fc26803",
   "metadata": {},
   "outputs": [],
   "source": [
    "# clean_train_docs[0]"
   ]
  },
  {
   "cell_type": "code",
   "execution_count": 86,
   "id": "375c8d6a",
   "metadata": {},
   "outputs": [],
   "source": [
    "from sklearn.feature_extraction.text import CountVectorizer"
   ]
  },
  {
   "cell_type": "code",
   "execution_count": 100,
   "id": "1af1c05f",
   "metadata": {},
   "outputs": [
    {
     "name": "stdout",
     "output_type": "stream",
     "text": [
      "11712\n"
     ]
    }
   ],
   "source": [
    "sentiments = [cat for doc, cat in clean_train_docs]\n",
    "train_tweets = [' '.join(doc) for doc, cat in clean_train_docs]\n",
    "test_tweets = [' '.join(doc) for doc, cat in clean_test_docs]"
   ]
  },
  {
   "cell_type": "code",
   "execution_count": 88,
   "id": "0bf9a4df",
   "metadata": {},
   "outputs": [],
   "source": [
    "count_vec = CountVectorizer(max_features = 3000, max_df = 0.98, ngram_range = (1,3))"
   ]
  },
  {
   "cell_type": "code",
   "execution_count": 89,
   "id": "9ef8fba8",
   "metadata": {},
   "outputs": [],
   "source": [
    "x_train_features = count_vec.fit_transform(train_tweets)"
   ]
  },
  {
   "cell_type": "code",
   "execution_count": 90,
   "id": "21b5a279",
   "metadata": {},
   "outputs": [
    {
     "data": {
      "text/plain": [
       "matrix([[0, 0, 0, ..., 0, 0, 0],\n",
       "        [0, 0, 0, ..., 0, 0, 0],\n",
       "        [0, 0, 0, ..., 0, 0, 0],\n",
       "        ...,\n",
       "        [0, 0, 0, ..., 0, 0, 0],\n",
       "        [0, 0, 0, ..., 0, 0, 0],\n",
       "        [0, 0, 0, ..., 0, 0, 0]], dtype=int64)"
      ]
     },
     "execution_count": 90,
     "metadata": {},
     "output_type": "execute_result"
    }
   ],
   "source": [
    "x_train_features.todense()"
   ]
  },
  {
   "cell_type": "code",
   "execution_count": 91,
   "id": "5d68738f",
   "metadata": {},
   "outputs": [],
   "source": [
    "#count_vec.get_feature_names()"
   ]
  },
  {
   "cell_type": "code",
   "execution_count": 35,
   "id": "14af2a55",
   "metadata": {},
   "outputs": [],
   "source": [
    "x_test_features = count_vec.transform(test_tweets)"
   ]
  },
  {
   "cell_type": "code",
   "execution_count": 103,
   "id": "1c361266",
   "metadata": {},
   "outputs": [
    {
     "data": {
      "text/plain": [
       "matrix([[0, 0, 0, ..., 0, 0, 0],\n",
       "        [0, 0, 0, ..., 0, 0, 0],\n",
       "        [0, 0, 0, ..., 0, 0, 0],\n",
       "        ...,\n",
       "        [0, 0, 0, ..., 0, 0, 0],\n",
       "        [0, 0, 0, ..., 0, 0, 0],\n",
       "        [0, 0, 0, ..., 0, 0, 0]], dtype=int64)"
      ]
     },
     "execution_count": 103,
     "metadata": {},
     "output_type": "execute_result"
    }
   ],
   "source": [
    "x_test_features.todense()"
   ]
  },
  {
   "cell_type": "code",
   "execution_count": 102,
   "id": "496f6da7",
   "metadata": {},
   "outputs": [],
   "source": [
    "# count_vec.get_feature_names()\n",
    "# print(sentiments)"
   ]
  },
  {
   "cell_type": "code",
   "execution_count": 105,
   "id": "72aa7e2f",
   "metadata": {},
   "outputs": [
    {
     "data": {
      "text/html": [
       "<style>#sk-container-id-3 {color: black;background-color: white;}#sk-container-id-3 pre{padding: 0;}#sk-container-id-3 div.sk-toggleable {background-color: white;}#sk-container-id-3 label.sk-toggleable__label {cursor: pointer;display: block;width: 100%;margin-bottom: 0;padding: 0.3em;box-sizing: border-box;text-align: center;}#sk-container-id-3 label.sk-toggleable__label-arrow:before {content: \"▸\";float: left;margin-right: 0.25em;color: #696969;}#sk-container-id-3 label.sk-toggleable__label-arrow:hover:before {color: black;}#sk-container-id-3 div.sk-estimator:hover label.sk-toggleable__label-arrow:before {color: black;}#sk-container-id-3 div.sk-toggleable__content {max-height: 0;max-width: 0;overflow: hidden;text-align: left;background-color: #f0f8ff;}#sk-container-id-3 div.sk-toggleable__content pre {margin: 0.2em;color: black;border-radius: 0.25em;background-color: #f0f8ff;}#sk-container-id-3 input.sk-toggleable__control:checked~div.sk-toggleable__content {max-height: 200px;max-width: 100%;overflow: auto;}#sk-container-id-3 input.sk-toggleable__control:checked~label.sk-toggleable__label-arrow:before {content: \"▾\";}#sk-container-id-3 div.sk-estimator input.sk-toggleable__control:checked~label.sk-toggleable__label {background-color: #d4ebff;}#sk-container-id-3 div.sk-label input.sk-toggleable__control:checked~label.sk-toggleable__label {background-color: #d4ebff;}#sk-container-id-3 input.sk-hidden--visually {border: 0;clip: rect(1px 1px 1px 1px);clip: rect(1px, 1px, 1px, 1px);height: 1px;margin: -1px;overflow: hidden;padding: 0;position: absolute;width: 1px;}#sk-container-id-3 div.sk-estimator {font-family: monospace;background-color: #f0f8ff;border: 1px dotted black;border-radius: 0.25em;box-sizing: border-box;margin-bottom: 0.5em;}#sk-container-id-3 div.sk-estimator:hover {background-color: #d4ebff;}#sk-container-id-3 div.sk-parallel-item::after {content: \"\";width: 100%;border-bottom: 1px solid gray;flex-grow: 1;}#sk-container-id-3 div.sk-label:hover label.sk-toggleable__label {background-color: #d4ebff;}#sk-container-id-3 div.sk-serial::before {content: \"\";position: absolute;border-left: 1px solid gray;box-sizing: border-box;top: 0;bottom: 0;left: 50%;z-index: 0;}#sk-container-id-3 div.sk-serial {display: flex;flex-direction: column;align-items: center;background-color: white;padding-right: 0.2em;padding-left: 0.2em;position: relative;}#sk-container-id-3 div.sk-item {position: relative;z-index: 1;}#sk-container-id-3 div.sk-parallel {display: flex;align-items: stretch;justify-content: center;background-color: white;position: relative;}#sk-container-id-3 div.sk-item::before, #sk-container-id-3 div.sk-parallel-item::before {content: \"\";position: absolute;border-left: 1px solid gray;box-sizing: border-box;top: 0;bottom: 0;left: 50%;z-index: -1;}#sk-container-id-3 div.sk-parallel-item {display: flex;flex-direction: column;z-index: 1;position: relative;background-color: white;}#sk-container-id-3 div.sk-parallel-item:first-child::after {align-self: flex-end;width: 50%;}#sk-container-id-3 div.sk-parallel-item:last-child::after {align-self: flex-start;width: 50%;}#sk-container-id-3 div.sk-parallel-item:only-child::after {width: 0;}#sk-container-id-3 div.sk-dashed-wrapped {border: 1px dashed gray;margin: 0 0.4em 0.5em 0.4em;box-sizing: border-box;padding-bottom: 0.4em;background-color: white;}#sk-container-id-3 div.sk-label label {font-family: monospace;font-weight: bold;display: inline-block;line-height: 1.2em;}#sk-container-id-3 div.sk-label-container {text-align: center;}#sk-container-id-3 div.sk-container {/* jupyter's `normalize.less` sets `[hidden] { display: none; }` but bootstrap.min.css set `[hidden] { display: none !important; }` so we also need the `!important` here to be able to override the default hidden behavior on the sphinx rendered scikit-learn.org. See: https://github.com/scikit-learn/scikit-learn/issues/21755 */display: inline-block !important;position: relative;}#sk-container-id-3 div.sk-text-repr-fallback {display: none;}</style><div id=\"sk-container-id-3\" class=\"sk-top-container\"><div class=\"sk-text-repr-fallback\"><pre>GridSearchCV(estimator=SVC(), n_jobs=-1,\n",
       "             param_grid={&#x27;C&#x27;: [100.0, 10000.0, 10.0, 5000.0, 1000.0, 500.0],\n",
       "                         &#x27;gamma&#x27;: [0.001, 0.01, 0.005, 0.05, 0.0001, 1e-05]})</pre><b>In a Jupyter environment, please rerun this cell to show the HTML representation or trust the notebook. <br />On GitHub, the HTML representation is unable to render, please try loading this page with nbviewer.org.</b></div><div class=\"sk-container\" hidden><div class=\"sk-item sk-dashed-wrapped\"><div class=\"sk-label-container\"><div class=\"sk-label sk-toggleable\"><input class=\"sk-toggleable__control sk-hidden--visually\" id=\"sk-estimator-id-7\" type=\"checkbox\" ><label for=\"sk-estimator-id-7\" class=\"sk-toggleable__label sk-toggleable__label-arrow\">GridSearchCV</label><div class=\"sk-toggleable__content\"><pre>GridSearchCV(estimator=SVC(), n_jobs=-1,\n",
       "             param_grid={&#x27;C&#x27;: [100.0, 10000.0, 10.0, 5000.0, 1000.0, 500.0],\n",
       "                         &#x27;gamma&#x27;: [0.001, 0.01, 0.005, 0.05, 0.0001, 1e-05]})</pre></div></div></div><div class=\"sk-parallel\"><div class=\"sk-parallel-item\"><div class=\"sk-item\"><div class=\"sk-label-container\"><div class=\"sk-label sk-toggleable\"><input class=\"sk-toggleable__control sk-hidden--visually\" id=\"sk-estimator-id-8\" type=\"checkbox\" ><label for=\"sk-estimator-id-8\" class=\"sk-toggleable__label sk-toggleable__label-arrow\">estimator: SVC</label><div class=\"sk-toggleable__content\"><pre>SVC()</pre></div></div></div><div class=\"sk-serial\"><div class=\"sk-item\"><div class=\"sk-estimator sk-toggleable\"><input class=\"sk-toggleable__control sk-hidden--visually\" id=\"sk-estimator-id-9\" type=\"checkbox\" ><label for=\"sk-estimator-id-9\" class=\"sk-toggleable__label sk-toggleable__label-arrow\">SVC</label><div class=\"sk-toggleable__content\"><pre>SVC()</pre></div></div></div></div></div></div></div></div></div></div>"
      ],
      "text/plain": [
       "GridSearchCV(estimator=SVC(), n_jobs=-1,\n",
       "             param_grid={'C': [100.0, 10000.0, 10.0, 5000.0, 1000.0, 500.0],\n",
       "                         'gamma': [0.001, 0.01, 0.005, 0.05, 0.0001, 1e-05]})"
      ]
     },
     "execution_count": 105,
     "metadata": {},
     "output_type": "execute_result"
    }
   ],
   "source": [
    "from sklearn.svm import SVC\n",
    "from sklearn.model_selection import GridSearchCV\n",
    "clf=SVC()\n",
    "grid={'C':[1e2,1e4,1e1,5e3,1e3,5e2],\n",
    "      'gamma':[1e-3,1e-2,5e-3,5e-2,1e-4,1e-5]}\n",
    "svm=GridSearchCV(clf,grid,n_jobs=-1)\n",
    "svm.fit(x_train_features, sentiments)\n"
   ]
  },
  {
   "cell_type": "code",
   "execution_count": 106,
   "id": "faf44f51",
   "metadata": {
    "scrolled": true
   },
   "outputs": [
    {
     "name": "stdout",
     "output_type": "stream",
     "text": [
      "0.7691262342577578\n",
      "{'C': 10.0, 'gamma': 0.01}\n"
     ]
    }
   ],
   "source": [
    "print(svm.best_score_)\n",
    "print(svm.best_params_)\n",
    "y_pred = svm.predict(x_test_features)\n",
    "#print(x_test_features)"
   ]
  },
  {
   "cell_type": "code",
   "execution_count": 107,
   "id": "97e9fd60",
   "metadata": {},
   "outputs": [],
   "source": [
    "predictions = pd.DataFrame(y_pred)"
   ]
  },
  {
   "cell_type": "code",
   "execution_count": 108,
   "id": "f98dd4dc",
   "metadata": {},
   "outputs": [],
   "source": [
    "predictions.to_csv('twitter_analysis.csv', index = False, header = False)"
   ]
  },
  {
   "cell_type": "code",
   "execution_count": null,
   "id": "10e91691",
   "metadata": {},
   "outputs": [],
   "source": []
  }
 ],
 "metadata": {
  "kernelspec": {
   "display_name": "Python 3 (ipykernel)",
   "language": "python",
   "name": "python3"
  },
  "language_info": {
   "codemirror_mode": {
    "name": "ipython",
    "version": 3
   },
   "file_extension": ".py",
   "mimetype": "text/x-python",
   "name": "python",
   "nbconvert_exporter": "python",
   "pygments_lexer": "ipython3",
   "version": "3.10.11"
  }
 },
 "nbformat": 4,
 "nbformat_minor": 5
}
